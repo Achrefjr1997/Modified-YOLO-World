{
 "cells": [
  {
   "cell_type": "code",
   "execution_count": 1,
   "id": "0bdfdc8e-736f-4cd9-82a8-45c2a0e0e203",
   "metadata": {},
   "outputs": [
    {
     "name": "stdout",
     "output_type": "stream",
     "text": [
      "C:\\Users\\yassi\\Desktop\\finalework WIoU\\ultralytics\n"
     ]
    }
   ],
   "source": [
    "cd ultralytics"
   ]
  },
  {
   "cell_type": "code",
   "execution_count": 2,
   "id": "434710c0-d02c-4dad-8786-78f99ddc9dae",
   "metadata": {},
   "outputs": [
    {
     "name": "stdout",
     "output_type": "stream",
     "text": [
      "Processing c:\\users\\yassi\\desktop\\finalework wiou\\ultralytics\n",
      "  Installing build dependencies: started\n",
      "  Installing build dependencies: finished with status 'done'\n",
      "  Getting requirements to build wheel: started\n",
      "  Getting requirements to build wheel: finished with status 'done'\n",
      "  Preparing metadata (pyproject.toml): started\n",
      "  Preparing metadata (pyproject.toml): finished with status 'done'\n",
      "Requirement already satisfied: e in c:\\users\\yassi\\anaconda3\\envs\\pfe\\lib\\site-packages (1.4.5)\n",
      "Requirement already satisfied: numpy<2.0.0,>=1.23.0 in c:\\users\\yassi\\anaconda3\\envs\\pfe\\lib\\site-packages (from ultralytics==8.2.69) (1.24.3)\n",
      "Requirement already satisfied: matplotlib>=3.3.0 in c:\\users\\yassi\\anaconda3\\envs\\pfe\\lib\\site-packages (from ultralytics==8.2.69) (3.7.5)\n",
      "Requirement already satisfied: opencv-python>=4.6.0 in c:\\users\\yassi\\anaconda3\\envs\\pfe\\lib\\site-packages (from ultralytics==8.2.69) (4.10.0.82)\n",
      "Requirement already satisfied: pillow>=7.1.2 in c:\\users\\yassi\\anaconda3\\envs\\pfe\\lib\\site-packages (from ultralytics==8.2.69) (10.3.0)\n",
      "Requirement already satisfied: pyyaml>=5.3.1 in c:\\users\\yassi\\anaconda3\\envs\\pfe\\lib\\site-packages (from ultralytics==8.2.69) (6.0.1)\n",
      "Requirement already satisfied: requests>=2.23.0 in c:\\users\\yassi\\anaconda3\\envs\\pfe\\lib\\site-packages (from ultralytics==8.2.69) (2.32.2)\n",
      "Requirement already satisfied: scipy>=1.4.1 in c:\\users\\yassi\\anaconda3\\envs\\pfe\\lib\\site-packages (from ultralytics==8.2.69) (1.10.1)\n",
      "Requirement already satisfied: torch>=1.8.0 in c:\\users\\yassi\\anaconda3\\envs\\pfe\\lib\\site-packages (from ultralytics==8.2.69) (2.3.1)\n",
      "Requirement already satisfied: torchvision>=0.9.0 in c:\\users\\yassi\\anaconda3\\envs\\pfe\\lib\\site-packages (from ultralytics==8.2.69) (0.18.1)\n",
      "Requirement already satisfied: tqdm>=4.64.0 in c:\\users\\yassi\\anaconda3\\envs\\pfe\\lib\\site-packages (from ultralytics==8.2.69) (4.66.4)\n",
      "Requirement already satisfied: psutil in c:\\users\\yassi\\anaconda3\\envs\\pfe\\lib\\site-packages (from ultralytics==8.2.69) (5.9.0)\n",
      "Requirement already satisfied: py-cpuinfo in c:\\users\\yassi\\anaconda3\\envs\\pfe\\lib\\site-packages (from ultralytics==8.2.69) (9.0.0)\n",
      "Requirement already satisfied: pandas>=1.1.4 in c:\\users\\yassi\\anaconda3\\envs\\pfe\\lib\\site-packages (from ultralytics==8.2.69) (2.0.3)\n",
      "Requirement already satisfied: seaborn>=0.11.0 in c:\\users\\yassi\\anaconda3\\envs\\pfe\\lib\\site-packages (from ultralytics==8.2.69) (0.13.2)\n",
      "Requirement already satisfied: ultralytics-thop>=2.0.0 in c:\\users\\yassi\\anaconda3\\envs\\pfe\\lib\\site-packages (from ultralytics==8.2.69) (2.0.0)\n",
      "Requirement already satisfied: contourpy>=1.0.1 in c:\\users\\yassi\\anaconda3\\envs\\pfe\\lib\\site-packages (from matplotlib>=3.3.0->ultralytics==8.2.69) (1.1.1)\n",
      "Requirement already satisfied: cycler>=0.10 in c:\\users\\yassi\\anaconda3\\envs\\pfe\\lib\\site-packages (from matplotlib>=3.3.0->ultralytics==8.2.69) (0.12.1)\n",
      "Requirement already satisfied: fonttools>=4.22.0 in c:\\users\\yassi\\anaconda3\\envs\\pfe\\lib\\site-packages (from matplotlib>=3.3.0->ultralytics==8.2.69) (4.53.0)\n",
      "Requirement already satisfied: kiwisolver>=1.0.1 in c:\\users\\yassi\\anaconda3\\envs\\pfe\\lib\\site-packages (from matplotlib>=3.3.0->ultralytics==8.2.69) (1.4.5)\n",
      "Requirement already satisfied: packaging>=20.0 in c:\\users\\yassi\\anaconda3\\envs\\pfe\\lib\\site-packages (from matplotlib>=3.3.0->ultralytics==8.2.69) (23.2)\n",
      "Requirement already satisfied: pyparsing>=2.3.1 in c:\\users\\yassi\\anaconda3\\envs\\pfe\\lib\\site-packages (from matplotlib>=3.3.0->ultralytics==8.2.69) (3.1.2)\n",
      "Requirement already satisfied: python-dateutil>=2.7 in c:\\users\\yassi\\anaconda3\\envs\\pfe\\lib\\site-packages (from matplotlib>=3.3.0->ultralytics==8.2.69) (2.9.0.post0)\n",
      "Requirement already satisfied: importlib-resources>=3.2.0 in c:\\users\\yassi\\anaconda3\\envs\\pfe\\lib\\site-packages (from matplotlib>=3.3.0->ultralytics==8.2.69) (6.1.1)\n",
      "Requirement already satisfied: pytz>=2020.1 in c:\\users\\yassi\\anaconda3\\envs\\pfe\\lib\\site-packages (from pandas>=1.1.4->ultralytics==8.2.69) (2024.1)\n",
      "Requirement already satisfied: tzdata>=2022.1 in c:\\users\\yassi\\anaconda3\\envs\\pfe\\lib\\site-packages (from pandas>=1.1.4->ultralytics==8.2.69) (2024.1)\n",
      "Requirement already satisfied: charset-normalizer<4,>=2 in c:\\users\\yassi\\anaconda3\\envs\\pfe\\lib\\site-packages (from requests>=2.23.0->ultralytics==8.2.69) (2.0.4)\n",
      "Requirement already satisfied: idna<4,>=2.5 in c:\\users\\yassi\\anaconda3\\envs\\pfe\\lib\\site-packages (from requests>=2.23.0->ultralytics==8.2.69) (3.7)\n",
      "Requirement already satisfied: urllib3<3,>=1.21.1 in c:\\users\\yassi\\anaconda3\\envs\\pfe\\lib\\site-packages (from requests>=2.23.0->ultralytics==8.2.69) (2.2.1)\n",
      "Requirement already satisfied: certifi>=2017.4.17 in c:\\users\\yassi\\anaconda3\\envs\\pfe\\lib\\site-packages (from requests>=2.23.0->ultralytics==8.2.69) (2024.6.2)\n",
      "Requirement already satisfied: filelock in c:\\users\\yassi\\anaconda3\\envs\\pfe\\lib\\site-packages (from torch>=1.8.0->ultralytics==8.2.69) (3.13.1)\n",
      "Requirement already satisfied: typing-extensions>=4.8.0 in c:\\users\\yassi\\anaconda3\\envs\\pfe\\lib\\site-packages (from torch>=1.8.0->ultralytics==8.2.69) (4.11.0)\n",
      "Requirement already satisfied: sympy in c:\\users\\yassi\\anaconda3\\envs\\pfe\\lib\\site-packages (from torch>=1.8.0->ultralytics==8.2.69) (1.12.1)\n",
      "Requirement already satisfied: networkx in c:\\users\\yassi\\anaconda3\\envs\\pfe\\lib\\site-packages (from torch>=1.8.0->ultralytics==8.2.69) (3.1)\n",
      "Requirement already satisfied: jinja2 in c:\\users\\yassi\\anaconda3\\envs\\pfe\\lib\\site-packages (from torch>=1.8.0->ultralytics==8.2.69) (3.1.4)\n",
      "Requirement already satisfied: fsspec in c:\\users\\yassi\\anaconda3\\envs\\pfe\\lib\\site-packages (from torch>=1.8.0->ultralytics==8.2.69) (2024.6.0)\n",
      "Requirement already satisfied: mkl<=2021.4.0,>=2021.1.1 in c:\\users\\yassi\\anaconda3\\envs\\pfe\\lib\\site-packages (from torch>=1.8.0->ultralytics==8.2.69) (2021.4.0)\n",
      "Requirement already satisfied: colorama in c:\\users\\yassi\\anaconda3\\envs\\pfe\\lib\\site-packages (from tqdm>=4.64.0->ultralytics==8.2.69) (0.4.6)\n",
      "Requirement already satisfied: zipp>=3.1.0 in c:\\users\\yassi\\anaconda3\\envs\\pfe\\lib\\site-packages (from importlib-resources>=3.2.0->matplotlib>=3.3.0->ultralytics==8.2.69) (3.17.0)\n",
      "Requirement already satisfied: intel-openmp==2021.* in c:\\users\\yassi\\anaconda3\\envs\\pfe\\lib\\site-packages (from mkl<=2021.4.0,>=2021.1.1->torch>=1.8.0->ultralytics==8.2.69) (2021.4.0)\n",
      "Requirement already satisfied: tbb==2021.* in c:\\users\\yassi\\anaconda3\\envs\\pfe\\lib\\site-packages (from mkl<=2021.4.0,>=2021.1.1->torch>=1.8.0->ultralytics==8.2.69) (2021.12.0)\n",
      "Requirement already satisfied: six>=1.5 in c:\\users\\yassi\\anaconda3\\envs\\pfe\\lib\\site-packages (from python-dateutil>=2.7->matplotlib>=3.3.0->ultralytics==8.2.69) (1.16.0)\n",
      "Requirement already satisfied: MarkupSafe>=2.0 in c:\\users\\yassi\\anaconda3\\envs\\pfe\\lib\\site-packages (from jinja2->torch>=1.8.0->ultralytics==8.2.69) (2.1.3)\n",
      "Requirement already satisfied: mpmath<1.4.0,>=1.1.0 in c:\\users\\yassi\\anaconda3\\envs\\pfe\\lib\\site-packages (from sympy->torch>=1.8.0->ultralytics==8.2.69) (1.3.0)\n",
      "Building wheels for collected packages: ultralytics\n",
      "  Building wheel for ultralytics (pyproject.toml): started\n",
      "  Building wheel for ultralytics (pyproject.toml): finished with status 'done'\n",
      "  Created wheel for ultralytics: filename=ultralytics-8.2.69-py3-none-any.whl size=810284 sha256=4c19ce94aa30777a0f899f06bde7f4405a36f8a555620de6634dd23c05f6ae4a\n",
      "  Stored in directory: C:\\Users\\yassi\\AppData\\Local\\Temp\\pip-ephem-wheel-cache-p36_qr3e\\wheels\\06\\38\\30\\b474c48db3f904c8bb3880be007bbe6f23e6a3b26b2c596570\n",
      "Successfully built ultralytics\n",
      "Installing collected packages: ultralytics\n",
      "  Attempting uninstall: ultralytics\n",
      "    Found existing installation: ultralytics 8.2.69\n",
      "    Uninstalling ultralytics-8.2.69:\n",
      "      Successfully uninstalled ultralytics-8.2.69\n",
      "Successfully installed ultralytics-8.2.69\n",
      "Note: you may need to restart the kernel to use updated packages.\n"
     ]
    }
   ],
   "source": [
    "pip install e ."
   ]
  },
  {
   "cell_type": "code",
   "execution_count": 3,
   "id": "102af66f-db51-4510-8b24-6ad6777ec1ed",
   "metadata": {},
   "outputs": [
    {
     "name": "stdout",
     "output_type": "stream",
     "text": [
      "WARNING  no model scale passed. Assuming scale='n'.\n"
     ]
    }
   ],
   "source": [
    "from ultralytics import YOLOWorld\n",
    "from pathlib import Path\n",
    "file_path = Path(r'C:\\Users\\yassi\\Desktop\\finalework WIoU\\Custom config\\yolov11World2.yaml')\n",
    "# file_path = Path(r\"C:\\Users\\yassi\\Desktop\\PFaE\\model\\DCNv4yolov8\\ultralytics\\runs\\detect\\yoloword_DCN.pt\")\n",
    "model = YOLOWorld(file_path) \n",
    "# model.set_classes([\"Fire\"])"
   ]
  },
  {
   "cell_type": "code",
   "execution_count": 5,
   "id": "47f7ca26-795d-4e74-9cd6-4f1976017524",
   "metadata": {},
   "outputs": [],
   "source": [
    "\n",
    "import torch\n",
    "from ultralytics.nn.modules import C2PSA"
   ]
  },
  {
   "cell_type": "code",
   "execution_count": 8,
   "id": "11e0e7bb-68bb-44b3-bcb1-08f07e965163",
   "metadata": {},
   "outputs": [
    {
     "name": "stdout",
     "output_type": "stream",
     "text": [
      "128 0.5 2\n"
     ]
    }
   ],
   "source": [
    "c2psa = C2PSA(c1=64, c2=64, n=2, e=2)\n",
    "input_tensor = torch.randn(1, 64, 32, 32)\n",
    "output_tensor = c2psa(input_tensor)"
   ]
  },
  {
   "cell_type": "code",
   "execution_count": 19,
   "id": "3d6d686d-9b0c-40ee-85d0-82c0831f83ab",
   "metadata": {},
   "outputs": [
    {
     "name": "stdout",
     "output_type": "stream",
     "text": [
      "torch.Size([1, 128, 128, 128])\n"
     ]
    }
   ],
   "source": [
    "import torch\n",
    "import torch.nn as nn\n",
    "\n",
    "# MEAC block (Multi-scale Efficient Attention Convolution)\n",
    "class MEAC(nn.Module):\n",
    "    def __init__(self, in_channels, out_channels, kernel_size):\n",
    "        super(MEAC, self).__init__()\n",
    "        \n",
    "        # Convolution operation for the main feature maps\n",
    "        self.conv = nn.Conv2d(in_channels, out_channels, kernel_size=kernel_size, padding=kernel_size//2)\n",
    "        \n",
    "        # Global Max Pooling for generating attention weights\n",
    "        self.global_max_pool = nn.AdaptiveMaxPool2d(1)\n",
    "        \n",
    "        # Convolution to apply on attention weights\n",
    "        self.attention_conv = nn.Conv2d(out_channels, out_channels, kernel_size=1)  # 1x1 convolution for attention refinement\n",
    "        \n",
    "    def forward(self, x):\n",
    "        # Apply convolution to the input\n",
    "        conv_out = self.conv(x)\n",
    "        \n",
    "        # Global Max Pooling to get attention weights\n",
    "        attention_weights = self.global_max_pool(conv_out)\n",
    "        \n",
    "        # Apply 1x1 convolution to the attention weights for refinement\n",
    "        refined_attention = self.attention_conv(attention_weights)\n",
    "        \n",
    "        # Element-wise multiplication between feature maps and refined attention weights\n",
    "        output = conv_out * refined_attention\n",
    "        \n",
    "        return output\n",
    "\n",
    "# MEAP block (Multi-scale Efficient Attention Pooling)\n",
    "class MEAP(nn.Module):\n",
    "    def __init__(self, in_channels, out_channels):\n",
    "        super(MEAP, self).__init__()\n",
    "        \n",
    "        # First Convolutional Block (CBS)\n",
    "        self.cbs1 = nn.Conv2d(in_channels, out_channels, kernel_size=3, padding=1)\n",
    "        \n",
    "        # MEAC blocks with different kernel sizes\n",
    "        self.meac5 = MEAC(out_channels, out_channels, kernel_size=5)\n",
    "        self.meac9 = MEAC(out_channels, out_channels, kernel_size=9)\n",
    "        self.meac13 = MEAC(out_channels, out_channels, kernel_size=13)\n",
    "        \n",
    "        # Second Convolutional Block (after concatenation)\n",
    "        self.cbs2 = nn.Conv2d(out_channels * 3, out_channels, kernel_size=3, padding=1)  # Multiply by 3 because of concatenation\n",
    "        \n",
    "    def forward(self, x):\n",
    "        # Apply the first CBS block\n",
    "        x1 = self.cbs1(x)\n",
    "        \n",
    "        # Apply the MEAC blocks in parallel (different kernel sizes)\n",
    "        x2_5 = self.meac5(x1)\n",
    "        x2_9 = self.meac9(x1)\n",
    "        x2_13 = self.meac13(x1)\n",
    "        \n",
    "        # Concatenate the outputs from MEAC blocks\n",
    "        concat_output = torch.cat([x2_5, x2_9, x2_13], dim=1)\n",
    "        \n",
    "        # Apply the second CBS block after concatenation\n",
    "        output = self.cbs2(concat_output)\n",
    "        \n",
    "        return output\n",
    "\n",
    "# Example usage:\n",
    "input_tensor = torch.randn(1, 128, 128, 128)  # Example input tensor (batch_size=1, channels=64, height=128, width=128)\n",
    "model = MEAP(in_channels=128, out_channels=128)\n",
    "\n",
    "# Forward pass\n",
    "output = model(input_tensor)\n",
    "print(output.shape)  # Should output the shape of the processed tensor\n"
   ]
  },
  {
   "cell_type": "code",
   "execution_count": 13,
   "id": "766f6fa8-c7b4-4ec4-88f6-f7ae57f8032a",
   "metadata": {},
   "outputs": [],
   "source": [
    "class MEAC(nn.Module):\n",
    "    def __init__(self, in_channels, out_channels, kernel_size):\n",
    "        super(MEAC, self).__init__()\n",
    "        \n",
    "        # Convolution operation for the main feature maps\n",
    "        self.conv = nn.Conv2d(in_channels, out_channels, kernel_size=kernel_size, padding=kernel_size//2)\n",
    "        \n",
    "        # Global Max Pooling for generating attention weights\n",
    "        self.global_max_pool = nn.AdaptiveMaxPool2d(1)\n",
    "        \n",
    "        # Convolution to apply on attention weights\n",
    "        self.attention_conv = nn.Conv2d(out_channels, out_channels, kernel_size=1)  # 1x1 convolution for attention refinement\n",
    "        \n",
    "    def forward(self, x):\n",
    "        # Apply convolution to the input\n",
    "        conv_out = self.conv(x)\n",
    "        \n",
    "        # Global Max Pooling to get attention weights\n",
    "        attention_weights = self.global_max_pool(conv_out)\n",
    "        \n",
    "        # Apply 1x1 convolution to the attention weights for refinement\n",
    "        refined_attention = self.attention_conv(attention_weights)\n",
    "        \n",
    "        # Element-wise multiplication between feature maps and refined attention weights\n",
    "        output = conv_out * refined_attention\n",
    "        \n",
    "        return output"
   ]
  },
  {
   "cell_type": "code",
   "execution_count": 15,
   "id": "8ea5694d-30cf-463c-bc18-1f1248b100dc",
   "metadata": {},
   "outputs": [],
   "source": [
    "input_tensor = torch.randn(1, 128, 128, 128)  # Example input tensor (batch_size=1, channels=64, height=128, width=128)\n",
    "model = MEAC(in_channels=128, out_channels=128,kernel_size=3)"
   ]
  },
  {
   "cell_type": "code",
   "execution_count": 18,
   "id": "4e0439dc-c727-41be-918e-ece2444691e2",
   "metadata": {},
   "outputs": [
    {
     "name": "stdout",
     "output_type": "stream",
     "text": [
      "torch.Size([1, 128, 128, 128])\n"
     ]
    }
   ],
   "source": [
    "output = model(input_tensor)\n",
    "print(output.shape)"
   ]
  },
  {
   "cell_type": "code",
   "execution_count": null,
   "id": "86bda618-fa78-4949-9ebe-09164806dda3",
   "metadata": {},
   "outputs": [],
   "source": []
  }
 ],
 "metadata": {
  "kernelspec": {
   "display_name": "Python 3 (ipykernel)",
   "language": "python",
   "name": "python3"
  },
  "language_info": {
   "codemirror_mode": {
    "name": "ipython",
    "version": 3
   },
   "file_extension": ".py",
   "mimetype": "text/x-python",
   "name": "python",
   "nbconvert_exporter": "python",
   "pygments_lexer": "ipython3",
   "version": "3.8.19"
  }
 },
 "nbformat": 4,
 "nbformat_minor": 5
}
