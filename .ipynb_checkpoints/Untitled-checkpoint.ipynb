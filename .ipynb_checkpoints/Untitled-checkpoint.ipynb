{
 "cells": [
  {
   "cell_type": "code",
   "execution_count": 1,
   "id": "0bdfdc8e-736f-4cd9-82a8-45c2a0e0e203",
   "metadata": {},
   "outputs": [],
   "source": [
    "cd ultralytics"
   ]
  },
  {
   "cell_type": "code",
   "execution_count": 2,
   "id": "434710c0-d02c-4dad-8786-78f99ddc9dae",
   "metadata": {},
   "outputs": [
    {
     "name": "stdout",
     "output_type": "stream",
     "text": [
      "Processing c:\\users\\yassi\\desktop\\finalework wiou\\ultralytics\n",
      "  Installing build dependencies: started\n",
      "  Installing build dependencies: finished with status 'done'\n",
      "  Getting requirements to build wheel: started\n",
      "  Getting requirements to build wheel: finished with status 'done'\n",
      "  Preparing metadata (pyproject.toml): started\n",
      "  Preparing metadata (pyproject.toml): finished with status 'done'\n",
      "Requirement already satisfied: e in c:\\users\\yassi\\anaconda3\\envs\\pfe\\lib\\site-packages (1.4.5)\n",
      "Requirement already satisfied: numpy<2.0.0,>=1.23.0 in c:\\users\\yassi\\anaconda3\\envs\\pfe\\lib\\site-packages (from ultralytics==8.2.69) (1.24.3)\n",
      "Requirement already satisfied: matplotlib>=3.3.0 in c:\\users\\yassi\\anaconda3\\envs\\pfe\\lib\\site-packages (from ultralytics==8.2.69) (3.7.5)\n",
      "Requirement already satisfied: opencv-python>=4.6.0 in c:\\users\\yassi\\anaconda3\\envs\\pfe\\lib\\site-packages (from ultralytics==8.2.69) (4.10.0.82)\n",
      "Requirement already satisfied: pillow>=7.1.2 in c:\\users\\yassi\\anaconda3\\envs\\pfe\\lib\\site-packages (from ultralytics==8.2.69) (10.3.0)\n",
      "Requirement already satisfied: pyyaml>=5.3.1 in c:\\users\\yassi\\anaconda3\\envs\\pfe\\lib\\site-packages (from ultralytics==8.2.69) (6.0.1)\n",
      "Requirement already satisfied: requests>=2.23.0 in c:\\users\\yassi\\anaconda3\\envs\\pfe\\lib\\site-packages (from ultralytics==8.2.69) (2.32.2)\n",
      "Requirement already satisfied: scipy>=1.4.1 in c:\\users\\yassi\\anaconda3\\envs\\pfe\\lib\\site-packages (from ultralytics==8.2.69) (1.10.1)\n",
      "Requirement already satisfied: torch>=1.8.0 in c:\\users\\yassi\\anaconda3\\envs\\pfe\\lib\\site-packages (from ultralytics==8.2.69) (2.3.1)\n",
      "Requirement already satisfied: torchvision>=0.9.0 in c:\\users\\yassi\\anaconda3\\envs\\pfe\\lib\\site-packages (from ultralytics==8.2.69) (0.18.1)\n",
      "Requirement already satisfied: tqdm>=4.64.0 in c:\\users\\yassi\\anaconda3\\envs\\pfe\\lib\\site-packages (from ultralytics==8.2.69) (4.66.4)\n",
      "Requirement already satisfied: psutil in c:\\users\\yassi\\anaconda3\\envs\\pfe\\lib\\site-packages (from ultralytics==8.2.69) (5.9.0)\n",
      "Requirement already satisfied: py-cpuinfo in c:\\users\\yassi\\anaconda3\\envs\\pfe\\lib\\site-packages (from ultralytics==8.2.69) (9.0.0)\n",
      "Requirement already satisfied: pandas>=1.1.4 in c:\\users\\yassi\\anaconda3\\envs\\pfe\\lib\\site-packages (from ultralytics==8.2.69) (2.0.3)\n",
      "Requirement already satisfied: seaborn>=0.11.0 in c:\\users\\yassi\\anaconda3\\envs\\pfe\\lib\\site-packages (from ultralytics==8.2.69) (0.13.2)\n",
      "Requirement already satisfied: ultralytics-thop>=2.0.0 in c:\\users\\yassi\\anaconda3\\envs\\pfe\\lib\\site-packages (from ultralytics==8.2.69) (2.0.0)\n",
      "Requirement already satisfied: contourpy>=1.0.1 in c:\\users\\yassi\\anaconda3\\envs\\pfe\\lib\\site-packages (from matplotlib>=3.3.0->ultralytics==8.2.69) (1.1.1)\n",
      "Requirement already satisfied: cycler>=0.10 in c:\\users\\yassi\\anaconda3\\envs\\pfe\\lib\\site-packages (from matplotlib>=3.3.0->ultralytics==8.2.69) (0.12.1)\n",
      "Requirement already satisfied: fonttools>=4.22.0 in c:\\users\\yassi\\anaconda3\\envs\\pfe\\lib\\site-packages (from matplotlib>=3.3.0->ultralytics==8.2.69) (4.53.0)\n",
      "Requirement already satisfied: kiwisolver>=1.0.1 in c:\\users\\yassi\\anaconda3\\envs\\pfe\\lib\\site-packages (from matplotlib>=3.3.0->ultralytics==8.2.69) (1.4.5)\n",
      "Requirement already satisfied: packaging>=20.0 in c:\\users\\yassi\\anaconda3\\envs\\pfe\\lib\\site-packages (from matplotlib>=3.3.0->ultralytics==8.2.69) (23.2)\n",
      "Requirement already satisfied: pyparsing>=2.3.1 in c:\\users\\yassi\\anaconda3\\envs\\pfe\\lib\\site-packages (from matplotlib>=3.3.0->ultralytics==8.2.69) (3.1.2)\n",
      "Requirement already satisfied: python-dateutil>=2.7 in c:\\users\\yassi\\anaconda3\\envs\\pfe\\lib\\site-packages (from matplotlib>=3.3.0->ultralytics==8.2.69) (2.9.0.post0)\n",
      "Requirement already satisfied: importlib-resources>=3.2.0 in c:\\users\\yassi\\anaconda3\\envs\\pfe\\lib\\site-packages (from matplotlib>=3.3.0->ultralytics==8.2.69) (6.1.1)\n",
      "Requirement already satisfied: pytz>=2020.1 in c:\\users\\yassi\\anaconda3\\envs\\pfe\\lib\\site-packages (from pandas>=1.1.4->ultralytics==8.2.69) (2024.1)\n",
      "Requirement already satisfied: tzdata>=2022.1 in c:\\users\\yassi\\anaconda3\\envs\\pfe\\lib\\site-packages (from pandas>=1.1.4->ultralytics==8.2.69) (2024.1)\n",
      "Requirement already satisfied: charset-normalizer<4,>=2 in c:\\users\\yassi\\anaconda3\\envs\\pfe\\lib\\site-packages (from requests>=2.23.0->ultralytics==8.2.69) (2.0.4)\n",
      "Requirement already satisfied: idna<4,>=2.5 in c:\\users\\yassi\\anaconda3\\envs\\pfe\\lib\\site-packages (from requests>=2.23.0->ultralytics==8.2.69) (3.7)\n",
      "Requirement already satisfied: urllib3<3,>=1.21.1 in c:\\users\\yassi\\anaconda3\\envs\\pfe\\lib\\site-packages (from requests>=2.23.0->ultralytics==8.2.69) (2.2.1)\n",
      "Requirement already satisfied: certifi>=2017.4.17 in c:\\users\\yassi\\anaconda3\\envs\\pfe\\lib\\site-packages (from requests>=2.23.0->ultralytics==8.2.69) (2024.6.2)\n",
      "Requirement already satisfied: filelock in c:\\users\\yassi\\anaconda3\\envs\\pfe\\lib\\site-packages (from torch>=1.8.0->ultralytics==8.2.69) (3.13.1)\n",
      "Requirement already satisfied: typing-extensions>=4.8.0 in c:\\users\\yassi\\anaconda3\\envs\\pfe\\lib\\site-packages (from torch>=1.8.0->ultralytics==8.2.69) (4.11.0)\n",
      "Requirement already satisfied: sympy in c:\\users\\yassi\\anaconda3\\envs\\pfe\\lib\\site-packages (from torch>=1.8.0->ultralytics==8.2.69) (1.12.1)\n",
      "Requirement already satisfied: networkx in c:\\users\\yassi\\anaconda3\\envs\\pfe\\lib\\site-packages (from torch>=1.8.0->ultralytics==8.2.69) (3.1)\n",
      "Requirement already satisfied: jinja2 in c:\\users\\yassi\\anaconda3\\envs\\pfe\\lib\\site-packages (from torch>=1.8.0->ultralytics==8.2.69) (3.1.4)\n",
      "Requirement already satisfied: fsspec in c:\\users\\yassi\\anaconda3\\envs\\pfe\\lib\\site-packages (from torch>=1.8.0->ultralytics==8.2.69) (2024.6.0)\n",
      "Requirement already satisfied: mkl<=2021.4.0,>=2021.1.1 in c:\\users\\yassi\\anaconda3\\envs\\pfe\\lib\\site-packages (from torch>=1.8.0->ultralytics==8.2.69) (2021.4.0)\n",
      "Requirement already satisfied: colorama in c:\\users\\yassi\\anaconda3\\envs\\pfe\\lib\\site-packages (from tqdm>=4.64.0->ultralytics==8.2.69) (0.4.6)\n",
      "Requirement already satisfied: zipp>=3.1.0 in c:\\users\\yassi\\anaconda3\\envs\\pfe\\lib\\site-packages (from importlib-resources>=3.2.0->matplotlib>=3.3.0->ultralytics==8.2.69) (3.17.0)\n",
      "Requirement already satisfied: intel-openmp==2021.* in c:\\users\\yassi\\anaconda3\\envs\\pfe\\lib\\site-packages (from mkl<=2021.4.0,>=2021.1.1->torch>=1.8.0->ultralytics==8.2.69) (2021.4.0)\n",
      "Requirement already satisfied: tbb==2021.* in c:\\users\\yassi\\anaconda3\\envs\\pfe\\lib\\site-packages (from mkl<=2021.4.0,>=2021.1.1->torch>=1.8.0->ultralytics==8.2.69) (2021.12.0)\n",
      "Requirement already satisfied: six>=1.5 in c:\\users\\yassi\\anaconda3\\envs\\pfe\\lib\\site-packages (from python-dateutil>=2.7->matplotlib>=3.3.0->ultralytics==8.2.69) (1.16.0)\n",
      "Requirement already satisfied: MarkupSafe>=2.0 in c:\\users\\yassi\\anaconda3\\envs\\pfe\\lib\\site-packages (from jinja2->torch>=1.8.0->ultralytics==8.2.69) (2.1.3)\n",
      "Requirement already satisfied: mpmath<1.4.0,>=1.1.0 in c:\\users\\yassi\\anaconda3\\envs\\pfe\\lib\\site-packages (from sympy->torch>=1.8.0->ultralytics==8.2.69) (1.3.0)\n",
      "Building wheels for collected packages: ultralytics\n",
      "  Building wheel for ultralytics (pyproject.toml): started\n",
      "  Building wheel for ultralytics (pyproject.toml): finished with status 'done'\n",
      "  Created wheel for ultralytics: filename=ultralytics-8.2.69-py3-none-any.whl size=809032 sha256=15ea0732c6264cbbe791bd099ecf467652d73d2dca75caf20c1b04fcdfaaadf9\n",
      "  Stored in directory: C:\\Users\\yassi\\AppData\\Local\\Temp\\pip-ephem-wheel-cache-n8z9j2lc\\wheels\\06\\38\\30\\b474c48db3f904c8bb3880be007bbe6f23e6a3b26b2c596570\n",
      "Successfully built ultralytics\n",
      "Installing collected packages: ultralytics\n",
      "  Attempting uninstall: ultralytics\n",
      "    Found existing installation: ultralytics 8.2.69\n",
      "    Uninstalling ultralytics-8.2.69:\n",
      "      Successfully uninstalled ultralytics-8.2.69\n",
      "Successfully installed ultralytics-8.2.69\n",
      "Note: you may need to restart the kernel to use updated packages.\n"
     ]
    }
   ],
   "source": [
    "pip install e ."
   ]
  },
  {
   "cell_type": "code",
   "execution_count": 3,
   "id": "102af66f-db51-4510-8b24-6ad6777ec1ed",
   "metadata": {},
   "outputs": [
    {
     "ename": "ImportError",
     "evalue": "cannot import name 'Bottleneck_CA2' from partially initialized module 'ultralytics.nn.modules.DCNv3_modules' (most likely due to a circular import) (C:\\Users\\yassi\\Desktop\\finalework WIoU\\ultralytics\\ultralytics\\nn\\modules\\DCNv3_modules.py)",
     "output_type": "error",
     "traceback": [
      "\u001b[1;31m---------------------------------------------------------------------------\u001b[0m",
      "\u001b[1;31mImportError\u001b[0m                               Traceback (most recent call last)",
      "Cell \u001b[1;32mIn[3], line 1\u001b[0m\n\u001b[1;32m----> 1\u001b[0m \u001b[38;5;28;01mfrom\u001b[39;00m \u001b[38;5;21;01multralytics\u001b[39;00m \u001b[38;5;28;01mimport\u001b[39;00m YOLOWorld\n\u001b[0;32m      2\u001b[0m \u001b[38;5;28;01mfrom\u001b[39;00m \u001b[38;5;21;01mpathlib\u001b[39;00m \u001b[38;5;28;01mimport\u001b[39;00m Path\n\u001b[0;32m      3\u001b[0m file_path \u001b[38;5;241m=\u001b[39m Path(\u001b[38;5;124mr\u001b[39m\u001b[38;5;124m'\u001b[39m\u001b[38;5;124mC:\u001b[39m\u001b[38;5;124m\\\u001b[39m\u001b[38;5;124mUsers\u001b[39m\u001b[38;5;124m\\\u001b[39m\u001b[38;5;124myassi\u001b[39m\u001b[38;5;124m\\\u001b[39m\u001b[38;5;124mDesktop\u001b[39m\u001b[38;5;124m\\\u001b[39m\u001b[38;5;124mfinalework WIoU\u001b[39m\u001b[38;5;124m\\\u001b[39m\u001b[38;5;124mCustom config\u001b[39m\u001b[38;5;124m\\\u001b[39m\u001b[38;5;124myolov11World2.yaml\u001b[39m\u001b[38;5;124m'\u001b[39m)\n",
      "File \u001b[1;32m~\\Desktop\\finalework WIoU\\ultralytics\\ultralytics\\__init__.py:10\u001b[0m\n\u001b[0;32m      7\u001b[0m \u001b[38;5;66;03m# Set ENV Variables (place before imports)\u001b[39;00m\n\u001b[0;32m      8\u001b[0m os\u001b[38;5;241m.\u001b[39menviron[\u001b[38;5;124m\"\u001b[39m\u001b[38;5;124mOMP_NUM_THREADS\u001b[39m\u001b[38;5;124m\"\u001b[39m] \u001b[38;5;241m=\u001b[39m \u001b[38;5;124m\"\u001b[39m\u001b[38;5;124m1\u001b[39m\u001b[38;5;124m\"\u001b[39m  \u001b[38;5;66;03m# reduce CPU utilization during training\u001b[39;00m\n\u001b[1;32m---> 10\u001b[0m \u001b[38;5;28;01mfrom\u001b[39;00m \u001b[38;5;21;01multralytics\u001b[39;00m\u001b[38;5;21;01m.\u001b[39;00m\u001b[38;5;21;01mdata\u001b[39;00m\u001b[38;5;21;01m.\u001b[39;00m\u001b[38;5;21;01mexplorer\u001b[39;00m\u001b[38;5;21;01m.\u001b[39;00m\u001b[38;5;21;01mexplorer\u001b[39;00m \u001b[38;5;28;01mimport\u001b[39;00m Explorer\n\u001b[0;32m     11\u001b[0m \u001b[38;5;28;01mfrom\u001b[39;00m \u001b[38;5;21;01multralytics\u001b[39;00m\u001b[38;5;21;01m.\u001b[39;00m\u001b[38;5;21;01mmodels\u001b[39;00m \u001b[38;5;28;01mimport\u001b[39;00m NAS, RTDETR, SAM, YOLO, FastSAM, YOLOWorld\n\u001b[0;32m     12\u001b[0m \u001b[38;5;28;01mfrom\u001b[39;00m \u001b[38;5;21;01multralytics\u001b[39;00m\u001b[38;5;21;01m.\u001b[39;00m\u001b[38;5;21;01mutils\u001b[39;00m \u001b[38;5;28;01mimport\u001b[39;00m ASSETS, SETTINGS\n",
      "File \u001b[1;32m~\\Desktop\\finalework WIoU\\ultralytics\\ultralytics\\data\\__init__.py:3\u001b[0m\n\u001b[0;32m      1\u001b[0m \u001b[38;5;66;03m# Ultralytics YOLO 🚀, AGPL-3.0 license\u001b[39;00m\n\u001b[1;32m----> 3\u001b[0m \u001b[38;5;28;01mfrom\u001b[39;00m \u001b[38;5;21;01m.\u001b[39;00m\u001b[38;5;21;01mbase\u001b[39;00m \u001b[38;5;28;01mimport\u001b[39;00m BaseDataset\n\u001b[0;32m      4\u001b[0m \u001b[38;5;28;01mfrom\u001b[39;00m \u001b[38;5;21;01m.\u001b[39;00m\u001b[38;5;21;01mbuild\u001b[39;00m \u001b[38;5;28;01mimport\u001b[39;00m build_dataloader, build_grounding, build_yolo_dataset, load_inference_source\n\u001b[0;32m      5\u001b[0m \u001b[38;5;28;01mfrom\u001b[39;00m \u001b[38;5;21;01m.\u001b[39;00m\u001b[38;5;21;01mdataset\u001b[39;00m \u001b[38;5;28;01mimport\u001b[39;00m (\n\u001b[0;32m      6\u001b[0m     ClassificationDataset,\n\u001b[0;32m      7\u001b[0m     GroundingDataset,\n\u001b[1;32m   (...)\u001b[0m\n\u001b[0;32m     11\u001b[0m     YOLOMultiModalDataset,\n\u001b[0;32m     12\u001b[0m )\n",
      "File \u001b[1;32m~\\Desktop\\finalework WIoU\\ultralytics\\ultralytics\\data\\base.py:17\u001b[0m\n\u001b[0;32m     14\u001b[0m \u001b[38;5;28;01mimport\u001b[39;00m \u001b[38;5;21;01mpsutil\u001b[39;00m\n\u001b[0;32m     15\u001b[0m \u001b[38;5;28;01mfrom\u001b[39;00m \u001b[38;5;21;01mtorch\u001b[39;00m\u001b[38;5;21;01m.\u001b[39;00m\u001b[38;5;21;01mutils\u001b[39;00m\u001b[38;5;21;01m.\u001b[39;00m\u001b[38;5;21;01mdata\u001b[39;00m \u001b[38;5;28;01mimport\u001b[39;00m Dataset\n\u001b[1;32m---> 17\u001b[0m \u001b[38;5;28;01mfrom\u001b[39;00m \u001b[38;5;21;01multralytics\u001b[39;00m\u001b[38;5;21;01m.\u001b[39;00m\u001b[38;5;21;01mdata\u001b[39;00m\u001b[38;5;21;01m.\u001b[39;00m\u001b[38;5;21;01mutils\u001b[39;00m \u001b[38;5;28;01mimport\u001b[39;00m FORMATS_HELP_MSG, HELP_URL, IMG_FORMATS\n\u001b[0;32m     18\u001b[0m \u001b[38;5;28;01mfrom\u001b[39;00m \u001b[38;5;21;01multralytics\u001b[39;00m\u001b[38;5;21;01m.\u001b[39;00m\u001b[38;5;21;01mutils\u001b[39;00m \u001b[38;5;28;01mimport\u001b[39;00m DEFAULT_CFG, LOCAL_RANK, LOGGER, NUM_THREADS, TQDM\n\u001b[0;32m     21\u001b[0m \u001b[38;5;28;01mclass\u001b[39;00m \u001b[38;5;21;01mBaseDataset\u001b[39;00m(Dataset):\n",
      "File \u001b[1;32m~\\Desktop\\finalework WIoU\\ultralytics\\ultralytics\\data\\utils.py:19\u001b[0m\n\u001b[0;32m     16\u001b[0m \u001b[38;5;28;01mimport\u001b[39;00m \u001b[38;5;21;01mnumpy\u001b[39;00m \u001b[38;5;28;01mas\u001b[39;00m \u001b[38;5;21;01mnp\u001b[39;00m\n\u001b[0;32m     17\u001b[0m \u001b[38;5;28;01mfrom\u001b[39;00m \u001b[38;5;21;01mPIL\u001b[39;00m \u001b[38;5;28;01mimport\u001b[39;00m Image, ImageOps\n\u001b[1;32m---> 19\u001b[0m \u001b[38;5;28;01mfrom\u001b[39;00m \u001b[38;5;21;01multralytics\u001b[39;00m\u001b[38;5;21;01m.\u001b[39;00m\u001b[38;5;21;01mnn\u001b[39;00m\u001b[38;5;21;01m.\u001b[39;00m\u001b[38;5;21;01mautobackend\u001b[39;00m \u001b[38;5;28;01mimport\u001b[39;00m check_class_names\n\u001b[0;32m     20\u001b[0m \u001b[38;5;28;01mfrom\u001b[39;00m \u001b[38;5;21;01multralytics\u001b[39;00m\u001b[38;5;21;01m.\u001b[39;00m\u001b[38;5;21;01mutils\u001b[39;00m \u001b[38;5;28;01mimport\u001b[39;00m (\n\u001b[0;32m     21\u001b[0m     DATASETS_DIR,\n\u001b[0;32m     22\u001b[0m     LOGGER,\n\u001b[1;32m   (...)\u001b[0m\n\u001b[0;32m     32\u001b[0m     yaml_save,\n\u001b[0;32m     33\u001b[0m )\n\u001b[0;32m     34\u001b[0m \u001b[38;5;28;01mfrom\u001b[39;00m \u001b[38;5;21;01multralytics\u001b[39;00m\u001b[38;5;21;01m.\u001b[39;00m\u001b[38;5;21;01mutils\u001b[39;00m\u001b[38;5;21;01m.\u001b[39;00m\u001b[38;5;21;01mchecks\u001b[39;00m \u001b[38;5;28;01mimport\u001b[39;00m check_file, check_font, is_ascii\n",
      "File \u001b[1;32m~\\Desktop\\finalework WIoU\\ultralytics\\ultralytics\\nn\\__init__.py:3\u001b[0m\n\u001b[0;32m      1\u001b[0m \u001b[38;5;66;03m# Ultralytics YOLO 🚀, AGPL-3.0 license\u001b[39;00m\n\u001b[1;32m----> 3\u001b[0m \u001b[38;5;28;01mfrom\u001b[39;00m \u001b[38;5;21;01m.\u001b[39;00m\u001b[38;5;21;01mtasks\u001b[39;00m \u001b[38;5;28;01mimport\u001b[39;00m (\n\u001b[0;32m      4\u001b[0m     BaseModel,\n\u001b[0;32m      5\u001b[0m     ClassificationModel,\n\u001b[0;32m      6\u001b[0m     DetectionModel,\n\u001b[0;32m      7\u001b[0m     SegmentationModel,\n\u001b[0;32m      8\u001b[0m     attempt_load_one_weight,\n\u001b[0;32m      9\u001b[0m     attempt_load_weights,\n\u001b[0;32m     10\u001b[0m     guess_model_scale,\n\u001b[0;32m     11\u001b[0m     guess_model_task,\n\u001b[0;32m     12\u001b[0m     parse_model,\n\u001b[0;32m     13\u001b[0m     torch_safe_load,\n\u001b[0;32m     14\u001b[0m     yaml_model_load,\n\u001b[0;32m     15\u001b[0m )\n\u001b[0;32m     17\u001b[0m __all__ \u001b[38;5;241m=\u001b[39m (\n\u001b[0;32m     18\u001b[0m     \u001b[38;5;124m\"\u001b[39m\u001b[38;5;124mattempt_load_one_weight\u001b[39m\u001b[38;5;124m\"\u001b[39m,\n\u001b[0;32m     19\u001b[0m     \u001b[38;5;124m\"\u001b[39m\u001b[38;5;124mattempt_load_weights\u001b[39m\u001b[38;5;124m\"\u001b[39m,\n\u001b[1;32m   (...)\u001b[0m\n\u001b[0;32m     28\u001b[0m     \u001b[38;5;124m\"\u001b[39m\u001b[38;5;124mBaseModel\u001b[39m\u001b[38;5;124m\"\u001b[39m,\n\u001b[0;32m     29\u001b[0m )\n",
      "File \u001b[1;32m~\\Desktop\\finalework WIoU\\ultralytics\\ultralytics\\nn\\tasks.py:10\u001b[0m\n\u001b[0;32m      7\u001b[0m \u001b[38;5;28;01mimport\u001b[39;00m \u001b[38;5;21;01mtorch\u001b[39;00m\n\u001b[0;32m      8\u001b[0m \u001b[38;5;28;01mimport\u001b[39;00m \u001b[38;5;21;01mtorch\u001b[39;00m\u001b[38;5;21;01m.\u001b[39;00m\u001b[38;5;21;01mnn\u001b[39;00m \u001b[38;5;28;01mas\u001b[39;00m \u001b[38;5;21;01mnn\u001b[39;00m\n\u001b[1;32m---> 10\u001b[0m \u001b[38;5;28;01mfrom\u001b[39;00m \u001b[38;5;21;01multralytics\u001b[39;00m\u001b[38;5;21;01m.\u001b[39;00m\u001b[38;5;21;01mnn\u001b[39;00m\u001b[38;5;21;01m.\u001b[39;00m\u001b[38;5;21;01mmodules\u001b[39;00m \u001b[38;5;28;01mimport\u001b[39;00m (\n\u001b[0;32m     11\u001b[0m     AIFI,\n\u001b[0;32m     12\u001b[0m     C1,\n\u001b[0;32m     13\u001b[0m     C2,\n\u001b[0;32m     14\u001b[0m     C3,\n\u001b[0;32m     15\u001b[0m     C3TR,\n\u001b[0;32m     16\u001b[0m     ELAN1,\n\u001b[0;32m     17\u001b[0m     OBB,\n\u001b[0;32m     18\u001b[0m     PSA,\n\u001b[0;32m     19\u001b[0m     SPP,\n\u001b[0;32m     20\u001b[0m     SPPELAN,\n\u001b[0;32m     21\u001b[0m     SPPF,\n\u001b[0;32m     22\u001b[0m     AConv,\n\u001b[0;32m     23\u001b[0m     ADown,\n\u001b[0;32m     24\u001b[0m     Bottleneck,\n\u001b[0;32m     25\u001b[0m     BottleneckCSP,\n\u001b[0;32m     26\u001b[0m     C2f,\n\u001b[0;32m     27\u001b[0m     C2fAttn,\n\u001b[0;32m     28\u001b[0m     C2fCIB,\n\u001b[0;32m     29\u001b[0m     C3Ghost,\n\u001b[0;32m     30\u001b[0m     C3x,\n\u001b[0;32m     31\u001b[0m     CBFuse,\n\u001b[0;32m     32\u001b[0m     CBLinear,\n\u001b[0;32m     33\u001b[0m     Classify,\n\u001b[0;32m     34\u001b[0m     Concat,\n\u001b[0;32m     35\u001b[0m     Conv,\n\u001b[0;32m     36\u001b[0m     Conv2,\n\u001b[0;32m     37\u001b[0m     ConvTranspose,\n\u001b[0;32m     38\u001b[0m     Detect,\n\u001b[0;32m     39\u001b[0m     DWConv,\n\u001b[0;32m     40\u001b[0m     DWConvTranspose2d,\n\u001b[0;32m     41\u001b[0m     Focus,\n\u001b[0;32m     42\u001b[0m     GhostBottleneck,\n\u001b[0;32m     43\u001b[0m     GhostConv,\n\u001b[0;32m     44\u001b[0m     HGBlock,\n\u001b[0;32m     45\u001b[0m     HGStem,\n\u001b[0;32m     46\u001b[0m     ImagePoolingAttn,\n\u001b[0;32m     47\u001b[0m     Pose,\n\u001b[0;32m     48\u001b[0m     RepC3,\n\u001b[0;32m     49\u001b[0m     RepConv,\n\u001b[0;32m     50\u001b[0m     RepNCSPELAN4,\n\u001b[0;32m     51\u001b[0m     RepVGGDW,\n\u001b[0;32m     52\u001b[0m     ResNetLayer,\n\u001b[0;32m     53\u001b[0m     RTDETRDecoder,\n\u001b[0;32m     54\u001b[0m     SCDown,\n\u001b[0;32m     55\u001b[0m     Segment,\n\u001b[0;32m     56\u001b[0m     WorldDetect,\n\u001b[0;32m     57\u001b[0m     v10Detect,\n\u001b[0;32m     58\u001b[0m     DCNV3_YoLo,\n\u001b[0;32m     59\u001b[0m     Bottleneck_DCNV3,\n\u001b[0;32m     60\u001b[0m     DCNV3,\n\u001b[0;32m     61\u001b[0m     C2fDCNAttn,\n\u001b[0;32m     62\u001b[0m     C2f_CA_DCN,\n\u001b[0;32m     63\u001b[0m     C2f_CA,\n\u001b[0;32m     64\u001b[0m     C2f_CA2,\n\u001b[0;32m     65\u001b[0m     C2f_CA1,\n\u001b[0;32m     66\u001b[0m     C2f_CA2_DCN,\n\u001b[0;32m     67\u001b[0m     C2f_CA1_DCN,\n\u001b[0;32m     68\u001b[0m     C2fCA2ttn,\n\u001b[0;32m     69\u001b[0m     C2fCA1ttn,\n\u001b[0;32m     70\u001b[0m     C2fttn1,\n\u001b[0;32m     71\u001b[0m     C2fttn2,\n\u001b[0;32m     72\u001b[0m     AMFF_2,\n\u001b[0;32m     73\u001b[0m     AMFF_1,\n\u001b[0;32m     74\u001b[0m     FeatureAdaptationBlock,\n\u001b[0;32m     75\u001b[0m     AttentionFeatureFusion,\n\u001b[0;32m     76\u001b[0m     C3k2Attn,C3k2,C2PSA\n\u001b[0;32m     77\u001b[0m \n\u001b[0;32m     78\u001b[0m )\n\u001b[0;32m     79\u001b[0m \u001b[38;5;28;01mfrom\u001b[39;00m \u001b[38;5;21;01multralytics\u001b[39;00m\u001b[38;5;21;01m.\u001b[39;00m\u001b[38;5;21;01mutils\u001b[39;00m \u001b[38;5;28;01mimport\u001b[39;00m DEFAULT_CFG_DICT, DEFAULT_CFG_KEYS, LOGGER, colorstr, emojis, yaml_load\n\u001b[0;32m     80\u001b[0m \u001b[38;5;28;01mfrom\u001b[39;00m \u001b[38;5;21;01multralytics\u001b[39;00m\u001b[38;5;21;01m.\u001b[39;00m\u001b[38;5;21;01mutils\u001b[39;00m\u001b[38;5;21;01m.\u001b[39;00m\u001b[38;5;21;01mchecks\u001b[39;00m \u001b[38;5;28;01mimport\u001b[39;00m check_requirements, check_suffix, check_yaml\n",
      "File \u001b[1;32m~\\Desktop\\finalework WIoU\\ultralytics\\ultralytics\\nn\\modules\\__init__.py:19\u001b[0m\n\u001b[0;32m      1\u001b[0m \u001b[38;5;66;03m# Ultralytics YOLO 🚀, AGPL-3.0 license\u001b[39;00m\n\u001b[0;32m      2\u001b[0m \u001b[38;5;124;03m\"\"\"\u001b[39;00m\n\u001b[0;32m      3\u001b[0m \u001b[38;5;124;03mUltralytics modules.\u001b[39;00m\n\u001b[0;32m      4\u001b[0m \n\u001b[1;32m   (...)\u001b[0m\n\u001b[0;32m     17\u001b[0m \u001b[38;5;124;03m    ```\u001b[39;00m\n\u001b[0;32m     18\u001b[0m \u001b[38;5;124;03m\"\"\"\u001b[39;00m\n\u001b[1;32m---> 19\u001b[0m \u001b[38;5;28;01mfrom\u001b[39;00m \u001b[38;5;21;01m.\u001b[39;00m\u001b[38;5;21;01mDCNv3_modules\u001b[39;00m \u001b[38;5;28;01mimport\u001b[39;00m (AMFF_2,AMFF_1,C2fttn2,C2fttn1,DCNV3_YoLo,\n\u001b[0;32m     20\u001b[0m                             C2fCA2ttn,C2fCA1ttn, Bottleneck_DCNV3, DCNV3,\n\u001b[0;32m     21\u001b[0m                             C2fDCNAttn,C2f_CA,C2f_CA_DCN,C2f_CA2,C2f_CA1,\n\u001b[0;32m     22\u001b[0m                             C2f_CA2_DCN,C2f_CA1_DCN,FeatureAdaptationBlock,\n\u001b[0;32m     23\u001b[0m                             AttentionFeatureFusion)\n\u001b[0;32m     25\u001b[0m \u001b[38;5;28;01mfrom\u001b[39;00m \u001b[38;5;21;01m.\u001b[39;00m\u001b[38;5;21;01mblock\u001b[39;00m \u001b[38;5;28;01mimport\u001b[39;00m (\n\u001b[0;32m     26\u001b[0m     C3k2Attn,\n\u001b[0;32m     27\u001b[0m     C3k2,\n\u001b[1;32m   (...)\u001b[0m\n\u001b[0;32m     63\u001b[0m     SCDown,\n\u001b[0;32m     64\u001b[0m )\n\u001b[0;32m     65\u001b[0m \u001b[38;5;28;01mfrom\u001b[39;00m \u001b[38;5;21;01m.\u001b[39;00m\u001b[38;5;21;01mconv\u001b[39;00m \u001b[38;5;28;01mimport\u001b[39;00m (\n\u001b[0;32m     66\u001b[0m     CBAM,\n\u001b[0;32m     67\u001b[0m     ChannelAttention,\n\u001b[1;32m   (...)\u001b[0m\n\u001b[0;32m     78\u001b[0m     SpatialAttention,\n\u001b[0;32m     79\u001b[0m )\n",
      "File \u001b[1;32m~\\Desktop\\finalework WIoU\\ultralytics\\ultralytics\\nn\\modules\\DCNv3_modules.py:7\u001b[0m\n\u001b[0;32m      4\u001b[0m \u001b[38;5;28;01mfrom\u001b[39;00m \u001b[38;5;21;01multralytics\u001b[39;00m\u001b[38;5;21;01m.\u001b[39;00m\u001b[38;5;21;01mnn\u001b[39;00m\u001b[38;5;21;01m.\u001b[39;00m\u001b[38;5;21;01mmodules\u001b[39;00m\u001b[38;5;21;01m.\u001b[39;00m\u001b[38;5;21;01mops_dcnv3\u001b[39;00m\u001b[38;5;21;01m.\u001b[39;00m\u001b[38;5;21;01mmodules\u001b[39;00m \u001b[38;5;28;01mimport\u001b[39;00m DCNv3 \u001b[38;5;28;01mas\u001b[39;00m DCNv3  \u001b[38;5;66;03m# python implementation\u001b[39;00m\n\u001b[0;32m      6\u001b[0m \u001b[38;5;28;01mfrom\u001b[39;00m \u001b[38;5;21;01m.\u001b[39;00m\u001b[38;5;21;01mconv\u001b[39;00m \u001b[38;5;28;01mimport\u001b[39;00m  Conv\n\u001b[1;32m----> 7\u001b[0m \u001b[38;5;28;01mfrom\u001b[39;00m \u001b[38;5;21;01m.\u001b[39;00m\u001b[38;5;21;01mblock\u001b[39;00m \u001b[38;5;28;01mimport\u001b[39;00m MaxSigmoidAttnBlock,C2f,C3,C2fAttn,Bottleneck\n\u001b[0;32m      8\u001b[0m \u001b[38;5;28;01mimport\u001b[39;00m \u001b[38;5;21;01mtorch\u001b[39;00m\u001b[38;5;21;01m.\u001b[39;00m\u001b[38;5;21;01mnn\u001b[39;00m\u001b[38;5;21;01m.\u001b[39;00m\u001b[38;5;21;01mfunctional\u001b[39;00m \u001b[38;5;28;01mas\u001b[39;00m \u001b[38;5;21;01mF\u001b[39;00m\n\u001b[0;32m      9\u001b[0m \u001b[38;5;28;01mimport\u001b[39;00m \u001b[38;5;21;01mtorch\u001b[39;00m\u001b[38;5;21;01m.\u001b[39;00m\u001b[38;5;21;01mautograd\u001b[39;00m\n",
      "File \u001b[1;32m~\\Desktop\\finalework WIoU\\ultralytics\\ultralytics\\nn\\modules\\block.py:1007\u001b[0m\n\u001b[0;32m    996\u001b[0m         \u001b[38;5;28;01mreturn\u001b[39;00m \u001b[38;5;28mself\u001b[39m\u001b[38;5;241m.\u001b[39mcv2(torch\u001b[38;5;241m.\u001b[39mcat(y, \u001b[38;5;241m1\u001b[39m))\n\u001b[0;32m    997\u001b[0m \u001b[38;5;66;03m#class C3k2Attn(C2fAttn):\u001b[39;00m\n\u001b[0;32m    998\u001b[0m  \u001b[38;5;66;03m#   \"\"\"Faster Implementation of CSP Bottleneck with 2 convolutions.\"\"\"\u001b[39;00m\n\u001b[0;32m    999\u001b[0m \n\u001b[1;32m   (...)\u001b[0m\n\u001b[0;32m   1004\u001b[0m      \u001b[38;5;66;03m#       C3k(self.c, self.c, 2, shortcut, g) if c3k else Bottleneck(self.c, self.c, shortcut, g) for _ in range(n)\u001b[39;00m\n\u001b[0;32m   1005\u001b[0m       \u001b[38;5;66;03m#  )\u001b[39;00m\n\u001b[1;32m-> 1007\u001b[0m \u001b[38;5;28;01mfrom\u001b[39;00m \u001b[38;5;21;01m.\u001b[39;00m\u001b[38;5;21;01mDCNv3_modules\u001b[39;00m \u001b[38;5;28;01mimport\u001b[39;00m Bottleneck_CA2\n\u001b[0;32m   1008\u001b[0m \u001b[38;5;28;01mclass\u001b[39;00m \u001b[38;5;21;01mC3k\u001b[39;00m(C3):\n\u001b[0;32m   1009\u001b[0m \u001b[38;5;250m    \u001b[39m\u001b[38;5;124;03m\"\"\"C3k is a CSP bottleneck module with customizable kernel sizes for feature extraction in neural networks.\"\"\"\u001b[39;00m\n",
      "\u001b[1;31mImportError\u001b[0m: cannot import name 'Bottleneck_CA2' from partially initialized module 'ultralytics.nn.modules.DCNv3_modules' (most likely due to a circular import) (C:\\Users\\yassi\\Desktop\\finalework WIoU\\ultralytics\\ultralytics\\nn\\modules\\DCNv3_modules.py)"
     ]
    }
   ],
   "source": [
    "from ultralytics import YOLOWorld\n",
    "from pathlib import Path\n",
    "file_path = Path(r'C:\\Users\\yassi\\Desktop\\finalework WIoU\\Custom config\\yolov11World2.yaml')\n",
    "# file_path = Path(r\"C:\\Users\\yassi\\Desktop\\PFaE\\model\\DCNv4yolov8\\ultralytics\\runs\\detect\\yoloword_DCN.pt\")\n",
    "model = YOLOWorld(file_path) \n",
    "# model.set_classes([\"Fire\"])"
   ]
  },
  {
   "cell_type": "code",
   "execution_count": 5,
   "id": "47f7ca26-795d-4e74-9cd6-4f1976017524",
   "metadata": {},
   "outputs": [],
   "source": [
    "\n",
    "import torch\n",
    "from ultralytics.nn.modules import C2PSA"
   ]
  },
  {
   "cell_type": "code",
   "execution_count": 8,
   "id": "11e0e7bb-68bb-44b3-bcb1-08f07e965163",
   "metadata": {},
   "outputs": [
    {
     "name": "stdout",
     "output_type": "stream",
     "text": [
      "128 0.5 2\n"
     ]
    }
   ],
   "source": [
    "c2psa = C2PSA(c1=64, c2=64, n=2, e=2)\n",
    "input_tensor = torch.randn(1, 64, 32, 32)\n",
    "output_tensor = c2psa(input_tensor)"
   ]
  },
  {
   "cell_type": "code",
   "execution_count": null,
   "id": "3d6d686d-9b0c-40ee-85d0-82c0831f83ab",
   "metadata": {},
   "outputs": [],
   "source": []
  }
 ],
 "metadata": {
  "kernelspec": {
   "display_name": "Python 3 (ipykernel)",
   "language": "python",
   "name": "python3"
  },
  "language_info": {
   "codemirror_mode": {
    "name": "ipython",
    "version": 3
   },
   "file_extension": ".py",
   "mimetype": "text/x-python",
   "name": "python",
   "nbconvert_exporter": "python",
   "pygments_lexer": "ipython3",
   "version": "3.8.19"
  }
 },
 "nbformat": 4,
 "nbformat_minor": 5
}
